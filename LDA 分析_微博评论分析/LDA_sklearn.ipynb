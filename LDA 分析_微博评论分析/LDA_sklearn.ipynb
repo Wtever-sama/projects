{
 "cells": [
  {
   "cell_type": "code",
   "execution_count": 11,
   "id": "7070d8ba",
   "metadata": {},
   "outputs": [],
   "source": [
    "import os\n",
    "from tqdm import tqdm\n",
    "import pandas as pd\n",
    "import jieba"
   ]
  },
  {
   "cell_type": "code",
   "execution_count": 12,
   "id": "50215c60",
   "metadata": {},
   "outputs": [],
   "source": [
    "comment_file = 'week4.csv'"
   ]
  },
  {
   "cell_type": "markdown",
   "id": "f4173c1d",
   "metadata": {},
   "source": [
    "文件处理"
   ]
  },
  {
   "cell_type": "code",
   "execution_count": 13,
   "id": "4aefa1dd",
   "metadata": {},
   "outputs": [
    {
     "name": "stderr",
     "output_type": "stream",
     "text": [
      "Processing: 100%|██████████| 15/15 [00:00<00:00, 202.21year/s]\n",
      "Processing: 100%|██████████| 15/15 [00:00<00:00, 435.00year/s]\n",
      "Processing: 100%|██████████| 15/15 [00:00<00:00, 798.38year/s]\n",
      "Processing: 100%|██████████| 15/15 [00:00<00:00, 740.01year/s]\n",
      "Processing: 100%|██████████| 15/15 [00:00<00:00, 1485.31year/s]\n",
      "Processing: 100%|██████████| 15/15 [00:00<00:00, 1323.24year/s]\n",
      "Processing: 100%|██████████| 15/15 [00:00<00:00, 1246.77year/s]\n",
      "Processing: 100%|██████████| 15/15 [00:00<00:00, 1307.51year/s]\n",
      "Processing: 100%|██████████| 8/8 [00:00<00:00, 27.08shop_id/s]\n"
     ]
    }
   ],
   "source": [
    "def filter_file(file_path):\n",
    "    df = pd.read_csv(file_path)\n",
    "    save_path = 'file_group'\n",
    "    # 获取shopID列的所有值，将重复的值忽略，按照升序排列成一个列表\n",
    "    shop_id_list = df['shopID'].unique() #返回一个list\n",
    "    year_list = df['year'].unique()\n",
    "    # 将numpy.int64 object转化为普通的int类型\n",
    "    shop_id_list = [int(id) for id in shop_id_list]\n",
    "    year_list = [int(year) for year in year_list]\n",
    "    \n",
    "    for shop_id in tqdm(shop_id_list, desc = 'Processing', unit = 'shop_id'):\n",
    "        # shop_all_year_dict每个键为年份，就是year_list 中的元素,值是一个列表，包含这个年份所有的评论\n",
    "        shop_all_year_dict = {}\n",
    "        for year in tqdm(year_list, desc = 'Processing', unit = 'year'):\n",
    "            # 初始化shop_all_year_dict\n",
    "            shop_all_year_dict[year] = []\n",
    "            \n",
    "            id_filter = df[(df['shopID']==shop_id) & (df['year']== year)]\n",
    "            comments = id_filter['cus_comment']\n",
    "            comments = comments.dropna()\n",
    "            # 如果comments为空，继续读取下一个年份\n",
    "            for comment in comments:\n",
    "                if not isinstance(comment, str):\n",
    "                    continue\n",
    "                # 得到一个列表，是该评论行的所有词\n",
    "                words = comment.split()\n",
    "                shop_all_year_dict[year]+=words\n",
    "                \n",
    "        #将shop_all_year_dict写入文本txt,要求每个元素单独占据一行\n",
    "        with open(f'{save_path}shop_{shop_id}.txt','w',encoding = 'utf-8')as file:\n",
    "            # 对字典shop_all_year_dict中的每个值进行遍历\n",
    "            for year_id,year_comment in shop_all_year_dict.items():\n",
    "                # 将列表转化为字符串\n",
    "                year_comment = ' '.join(year_comment)\n",
    "                file.write(year_comment)\n",
    "                file.write('\\n')\n",
    "            file.close() \n",
    "\n",
    "              \n",
    "filter_file(comment_file)\n",
    "        "
   ]
  },
  {
   "cell_type": "code",
   "execution_count": 14,
   "id": "08aaa8bb",
   "metadata": {},
   "outputs": [],
   "source": [
    "indir_path = 'file_group'"
   ]
  },
  {
   "cell_type": "code",
   "execution_count": 15,
   "id": "f6f6c69a",
   "metadata": {},
   "outputs": [],
   "source": [
    "stop_words = set([\n",
    "    \"算是\",\"吧\",\"在\",\"的\",\"不是\",\"和\",\"也\",\"什么\",\"了\",\"人\",\"把\",\"就\",\"来\",\"不\",\"这次\",\"一个\",\"没\",\"我\"\n",
    "    ,\"在\",\"过\",\"嘛\",\"还\",\"九\",\"开\",\"而\",\"去\",\"也\",\"但是\",\"都\",\"宝宝\",\"们\",\"啊\",\"但\",\"哈\",\"只\",\"然后\",\"呀\"\n",
    "    ,\"因为\",\"先\",\"要\",\"到\",\"哈哈\",\"同时\",\"为了\",\"个人感觉\",\"上去\",\"一边\",\"例如\"\n",
    "                                                ,\"一粒\",\"次次\",\"带我去\"\n",
    "                                                \"哪里\",\"其次\",\"无法\",\"有待\",\"肯定\",\"不会\"\n",
    "])"
   ]
  },
  {
   "cell_type": "code",
   "execution_count": 16,
   "id": "8b4c2e6c",
   "metadata": {},
   "outputs": [],
   "source": [
    "# jieba 分词\n",
    "def chinese_word_cut(text):\n",
    "    if not isinstance(text, str):\n",
    "        return \"\"\n",
    "    return \" \".join(word for word in jieba.cut(text) if word not in stop_words)"
   ]
  },
  {
   "cell_type": "markdown",
   "id": "49b78365",
   "metadata": {},
   "source": [
    "以店铺520356为例"
   ]
  },
  {
   "cell_type": "code",
   "execution_count": 17,
   "id": "a705c3dc",
   "metadata": {},
   "outputs": [],
   "source": [
    "file_path='csv_filtered_group/shop_520356.txt.csv'"
   ]
  },
  {
   "cell_type": "code",
   "execution_count": 18,
   "id": "b0ea2efd",
   "metadata": {},
   "outputs": [],
   "source": [
    "from sklearn.feature_extraction.text import TfidfVectorizer, CountVectorizer\n",
    "from sklearn.decomposition import LatentDirichletAllocation\n",
    "\n",
    "import numpy as np\n"
   ]
  },
  {
   "cell_type": "markdown",
   "id": "0862393f",
   "metadata": {},
   "source": [
    "样本文件预清洗"
   ]
  },
  {
   "cell_type": "code",
   "execution_count": 19,
   "id": "1d45caad",
   "metadata": {},
   "outputs": [
    {
     "name": "stdout",
     "output_type": "stream",
     "text": [
      "after word cut 0    位置   好找   路边   同事   带   着   过来   打卡   按照   特色菜...\n",
      "1    油   吃   多   两个   腻味   道   还是   很棒   值得   一试   ...\n",
      "2    差   左烟   韧感   太软   口感   芬芳   真的   太   好吃   一  ...\n",
      "3    又   一次   来到   芬芳   寻找   记忆   中   味道   百合   莲子 ...\n",
      "4    豆   西米   当年   高中   必点   甜品   同福   这 间   芬芳   果...\n",
      "Name: cus_comment, dtype: object\n"
     ]
    }
   ],
   "source": [
    "data = pd.read_csv(file_path, encoding='utf-8')\n",
    "# 处理缺失值和非字符串值\n",
    "data[\"cus_comment\"] = data[\"cus_comment\"].fillna(\"\").astype(str)\n",
    "data[\"cus_comment\"]=data[\"cus_comment\"].apply(chinese_word_cut)\n",
    "print(\"after word cut\",data[\"cus_comment\"].head())"
   ]
  },
  {
   "cell_type": "code",
   "execution_count": 20,
   "id": "006208b3",
   "metadata": {},
   "outputs": [],
   "source": [
    "n_features = 30 # 提取30个特征词语\n",
    "# 初始化 CountVectorizer\n",
    "tf_vectorizer = CountVectorizer(\n",
    "                                strip_accents = 'unicode',\n",
    "                                max_features=n_features,\n",
    "                                stop_words = None,\n",
    "                                max_df=0.6,# 调整为允许更高频率的词\n",
    "                                min_df=5 # 调整为较低的最小出现次数\n",
    "                                )"
   ]
  },
  {
   "cell_type": "markdown",
   "id": "c054d611",
   "metadata": {},
   "source": [
    "拟合并转换文本数据为词频矩阵"
   ]
  },
  {
   "cell_type": "code",
   "execution_count": 21,
   "id": "2a6e8ff7",
   "metadata": {},
   "outputs": [
    {
     "name": "stdout",
     "output_type": "stream",
     "text": [
      "词汇表： ['一共' '一如既往' '一条街' '一杯' '三家' '东路' '二楼' '位于' '出口' '地铁站' '好喝' '对于' '对面'\n",
      " '小丸子' '左个' '情怀' '整体' '柚子' '点餐' '猪肉' '紫米' '莲子' '菜单' '虾米' '蛋挞' '路上' '这边'\n",
      " '速度' '隔壁' '黑糯米']\n",
      "词频矩阵：\n",
      " [[ 2  1  4  3 17  7 12  7  6  9  3  3  8 20  0  3  6  4  6  4  1  3  5  4\n",
      "   6  5  8  9  5  9]\n",
      " [ 9  4  7  8 10  8 10  4  7  6  6  3  4 18  2  3  6  2  7  5 14 10  3  1\n",
      "   8  3  6  4  0  2]\n",
      " [ 3  1  7  1  7  5  6  5  3  8  4  2  1  9  0  3  4  1  2  6  7  3  2  2\n",
      "   4  3  4  1  0  3]\n",
      " [ 3  7  8  5 10  6  5  8 10  6  2  5  5 16  0  5  3  5  3  2  3  5  4  3\n",
      "   1  9  7  3  4 13]\n",
      " [ 3  8  8  7 12  8 12  7  8  5  5  2  4 12  1  7  4  5  2  6 10  3  8  7\n",
      "   2 15  1  5  3 12]\n",
      " [ 0  2  2  2  4  2  5  0  5  3  3  2  4  8  0  4  3  0  2  5  4  2  2  4\n",
      "   7  8  1  1  2 10]\n",
      " [ 4  7  2  2  3  7  3  4  5  7  4  6  5 13  1  8  4  7  6  1  6  0  4  3\n",
      "   4  6  2  5  4  9]\n",
      " [ 1  4  4  3  2  0  1  1  2  6  0  0  0  7  1  3  3  1  2  2  1  0  1  5\n",
      "   1  1  5  0  3  4]\n",
      " [ 3  5  3  3  3  3  5  0  6  7  6  3  0  8  0  1  3  2  4  4  6  1  8  2\n",
      "   1  5  0  1  1 11]\n",
      " [ 0  1  1  1  4  3  2  0  0  0  1  0  2  0  1  1  1  3  4  0  4  0  1  4\n",
      "   0  1  1  0  3  0]\n",
      " [ 3  0  2  0  2  0  1  0  0  1  0  1  2  0  3  0  0  1  1  3  0  2  1  0\n",
      "   0  2  2  2  0  0]\n",
      " [ 0  0  1  0  0  0  2  1  2  0  0  3  0  0  2  0  0  0  0  0  1  0  0  3\n",
      "   0  0  0  2  5  1]\n",
      " [ 0  0  0  0  0  0  0  0  0  1  0  2  0  2  7  0  1  0  0  0  0  3  0  1\n",
      "   0  0  4  2  2  0]\n",
      " [ 0  0  0  0  0  1  0  0  1  2  1  0  0  0  4  1  0  4  1  0  0  0  0  0\n",
      "   0  0  0  0  0  0]\n",
      " [ 2  0  0  3  0  1  0  0  0  0  1  0  1  0 12  0  0  4  0  4  0  2  0  0\n",
      "   0  0  0  0  1  0]\n",
      " [ 1  0  0  0  0  2  0  0  0  0  0  4  3  0  4  0  1  0  0  2  0  1  0  0\n",
      "   0  0  1  2  0  0]\n",
      " [ 0  0  0  0  0  0  0  0  0  0  0  0  1  0  0  0  0  0  0  0  0  0  0  0\n",
      "   0  0  0  0  2  0]\n",
      " [ 0  0  0  0  0  0  0  0  0  0  1  0  0  0  4  0  0  0  0  0  0  0  0  0\n",
      "   0  0  0  0  0  0]\n",
      " [ 0  0  0  1  0  0  0  0  0  0  0  0  0  0  0  0  0  0  0  0  0  0  0  0\n",
      "   0  0  0  0  0  0]\n",
      " [ 0  0  0  0  0  0  0  0  0  0  0  0  0  0  0  0  0  0  0  0  0  0  0  0\n",
      "   0  0  0  0  0  0]]\n"
     ]
    }
   ],
   "source": [
    "tf = tf_vectorizer.fit_transform(data[\"cus_comment\"])\n",
    "if len(tf_vectorizer.get_feature_names_out()) == 0:\n",
    "        print(\"警告：词汇表为空，请检查参数设置或数据内容！\")\n",
    "else:\n",
    "    print(\"词汇表：\", tf_vectorizer.get_feature_names_out())\n",
    "    print(\"词频矩阵：\\n\", tf.toarray())"
   ]
  },
  {
   "cell_type": "markdown",
   "id": "a4ceb512",
   "metadata": {},
   "source": [
    "无监督学习训练模型"
   ]
  },
  {
   "cell_type": "code",
   "execution_count": 22,
   "id": "ae157f4c",
   "metadata": {},
   "outputs": [],
   "source": [
    "n_topics = 8\n",
    "lda = LatentDirichletAllocation(n_components=n_topics, max_iter=50,# 最大迭代次数\n",
    "                                learning_method='batch',\n",
    "                                learning_offset=50, # 学习偏移量\n",
    "#                                 doc_topic_prior=0.1,\n",
    "#                                 topic_word_prior=0.01,\n",
    "                            random_state=0 # 随机种子，默认为0。确保每次运行结果一致\n",
    "                            )"
   ]
  },
  {
   "cell_type": "markdown",
   "id": "0913389a",
   "metadata": {},
   "source": [
    "将转换后的词频矩阵进行拟合提取潜在主题"
   ]
  },
  {
   "cell_type": "code",
   "execution_count": 23,
   "id": "045ae3e6",
   "metadata": {},
   "outputs": [
    {
     "data": {
      "text/html": [
       "<style>#sk-container-id-1 {\n",
       "  /* Definition of color scheme common for light and dark mode */\n",
       "  --sklearn-color-text: #000;\n",
       "  --sklearn-color-text-muted: #666;\n",
       "  --sklearn-color-line: gray;\n",
       "  /* Definition of color scheme for unfitted estimators */\n",
       "  --sklearn-color-unfitted-level-0: #fff5e6;\n",
       "  --sklearn-color-unfitted-level-1: #f6e4d2;\n",
       "  --sklearn-color-unfitted-level-2: #ffe0b3;\n",
       "  --sklearn-color-unfitted-level-3: chocolate;\n",
       "  /* Definition of color scheme for fitted estimators */\n",
       "  --sklearn-color-fitted-level-0: #f0f8ff;\n",
       "  --sklearn-color-fitted-level-1: #d4ebff;\n",
       "  --sklearn-color-fitted-level-2: #b3dbfd;\n",
       "  --sklearn-color-fitted-level-3: cornflowerblue;\n",
       "\n",
       "  /* Specific color for light theme */\n",
       "  --sklearn-color-text-on-default-background: var(--sg-text-color, var(--theme-code-foreground, var(--jp-content-font-color1, black)));\n",
       "  --sklearn-color-background: var(--sg-background-color, var(--theme-background, var(--jp-layout-color0, white)));\n",
       "  --sklearn-color-border-box: var(--sg-text-color, var(--theme-code-foreground, var(--jp-content-font-color1, black)));\n",
       "  --sklearn-color-icon: #696969;\n",
       "\n",
       "  @media (prefers-color-scheme: dark) {\n",
       "    /* Redefinition of color scheme for dark theme */\n",
       "    --sklearn-color-text-on-default-background: var(--sg-text-color, var(--theme-code-foreground, var(--jp-content-font-color1, white)));\n",
       "    --sklearn-color-background: var(--sg-background-color, var(--theme-background, var(--jp-layout-color0, #111)));\n",
       "    --sklearn-color-border-box: var(--sg-text-color, var(--theme-code-foreground, var(--jp-content-font-color1, white)));\n",
       "    --sklearn-color-icon: #878787;\n",
       "  }\n",
       "}\n",
       "\n",
       "#sk-container-id-1 {\n",
       "  color: var(--sklearn-color-text);\n",
       "}\n",
       "\n",
       "#sk-container-id-1 pre {\n",
       "  padding: 0;\n",
       "}\n",
       "\n",
       "#sk-container-id-1 input.sk-hidden--visually {\n",
       "  border: 0;\n",
       "  clip: rect(1px 1px 1px 1px);\n",
       "  clip: rect(1px, 1px, 1px, 1px);\n",
       "  height: 1px;\n",
       "  margin: -1px;\n",
       "  overflow: hidden;\n",
       "  padding: 0;\n",
       "  position: absolute;\n",
       "  width: 1px;\n",
       "}\n",
       "\n",
       "#sk-container-id-1 div.sk-dashed-wrapped {\n",
       "  border: 1px dashed var(--sklearn-color-line);\n",
       "  margin: 0 0.4em 0.5em 0.4em;\n",
       "  box-sizing: border-box;\n",
       "  padding-bottom: 0.4em;\n",
       "  background-color: var(--sklearn-color-background);\n",
       "}\n",
       "\n",
       "#sk-container-id-1 div.sk-container {\n",
       "  /* jupyter's `normalize.less` sets `[hidden] { display: none; }`\n",
       "     but bootstrap.min.css set `[hidden] { display: none !important; }`\n",
       "     so we also need the `!important` here to be able to override the\n",
       "     default hidden behavior on the sphinx rendered scikit-learn.org.\n",
       "     See: https://github.com/scikit-learn/scikit-learn/issues/21755 */\n",
       "  display: inline-block !important;\n",
       "  position: relative;\n",
       "}\n",
       "\n",
       "#sk-container-id-1 div.sk-text-repr-fallback {\n",
       "  display: none;\n",
       "}\n",
       "\n",
       "div.sk-parallel-item,\n",
       "div.sk-serial,\n",
       "div.sk-item {\n",
       "  /* draw centered vertical line to link estimators */\n",
       "  background-image: linear-gradient(var(--sklearn-color-text-on-default-background), var(--sklearn-color-text-on-default-background));\n",
       "  background-size: 2px 100%;\n",
       "  background-repeat: no-repeat;\n",
       "  background-position: center center;\n",
       "}\n",
       "\n",
       "/* Parallel-specific style estimator block */\n",
       "\n",
       "#sk-container-id-1 div.sk-parallel-item::after {\n",
       "  content: \"\";\n",
       "  width: 100%;\n",
       "  border-bottom: 2px solid var(--sklearn-color-text-on-default-background);\n",
       "  flex-grow: 1;\n",
       "}\n",
       "\n",
       "#sk-container-id-1 div.sk-parallel {\n",
       "  display: flex;\n",
       "  align-items: stretch;\n",
       "  justify-content: center;\n",
       "  background-color: var(--sklearn-color-background);\n",
       "  position: relative;\n",
       "}\n",
       "\n",
       "#sk-container-id-1 div.sk-parallel-item {\n",
       "  display: flex;\n",
       "  flex-direction: column;\n",
       "}\n",
       "\n",
       "#sk-container-id-1 div.sk-parallel-item:first-child::after {\n",
       "  align-self: flex-end;\n",
       "  width: 50%;\n",
       "}\n",
       "\n",
       "#sk-container-id-1 div.sk-parallel-item:last-child::after {\n",
       "  align-self: flex-start;\n",
       "  width: 50%;\n",
       "}\n",
       "\n",
       "#sk-container-id-1 div.sk-parallel-item:only-child::after {\n",
       "  width: 0;\n",
       "}\n",
       "\n",
       "/* Serial-specific style estimator block */\n",
       "\n",
       "#sk-container-id-1 div.sk-serial {\n",
       "  display: flex;\n",
       "  flex-direction: column;\n",
       "  align-items: center;\n",
       "  background-color: var(--sklearn-color-background);\n",
       "  padding-right: 1em;\n",
       "  padding-left: 1em;\n",
       "}\n",
       "\n",
       "\n",
       "/* Toggleable style: style used for estimator/Pipeline/ColumnTransformer box that is\n",
       "clickable and can be expanded/collapsed.\n",
       "- Pipeline and ColumnTransformer use this feature and define the default style\n",
       "- Estimators will overwrite some part of the style using the `sk-estimator` class\n",
       "*/\n",
       "\n",
       "/* Pipeline and ColumnTransformer style (default) */\n",
       "\n",
       "#sk-container-id-1 div.sk-toggleable {\n",
       "  /* Default theme specific background. It is overwritten whether we have a\n",
       "  specific estimator or a Pipeline/ColumnTransformer */\n",
       "  background-color: var(--sklearn-color-background);\n",
       "}\n",
       "\n",
       "/* Toggleable label */\n",
       "#sk-container-id-1 label.sk-toggleable__label {\n",
       "  cursor: pointer;\n",
       "  display: flex;\n",
       "  width: 100%;\n",
       "  margin-bottom: 0;\n",
       "  padding: 0.5em;\n",
       "  box-sizing: border-box;\n",
       "  text-align: center;\n",
       "  align-items: start;\n",
       "  justify-content: space-between;\n",
       "  gap: 0.5em;\n",
       "}\n",
       "\n",
       "#sk-container-id-1 label.sk-toggleable__label .caption {\n",
       "  font-size: 0.6rem;\n",
       "  font-weight: lighter;\n",
       "  color: var(--sklearn-color-text-muted);\n",
       "}\n",
       "\n",
       "#sk-container-id-1 label.sk-toggleable__label-arrow:before {\n",
       "  /* Arrow on the left of the label */\n",
       "  content: \"▸\";\n",
       "  float: left;\n",
       "  margin-right: 0.25em;\n",
       "  color: var(--sklearn-color-icon);\n",
       "}\n",
       "\n",
       "#sk-container-id-1 label.sk-toggleable__label-arrow:hover:before {\n",
       "  color: var(--sklearn-color-text);\n",
       "}\n",
       "\n",
       "/* Toggleable content - dropdown */\n",
       "\n",
       "#sk-container-id-1 div.sk-toggleable__content {\n",
       "  max-height: 0;\n",
       "  max-width: 0;\n",
       "  overflow: hidden;\n",
       "  text-align: left;\n",
       "  /* unfitted */\n",
       "  background-color: var(--sklearn-color-unfitted-level-0);\n",
       "}\n",
       "\n",
       "#sk-container-id-1 div.sk-toggleable__content.fitted {\n",
       "  /* fitted */\n",
       "  background-color: var(--sklearn-color-fitted-level-0);\n",
       "}\n",
       "\n",
       "#sk-container-id-1 div.sk-toggleable__content pre {\n",
       "  margin: 0.2em;\n",
       "  border-radius: 0.25em;\n",
       "  color: var(--sklearn-color-text);\n",
       "  /* unfitted */\n",
       "  background-color: var(--sklearn-color-unfitted-level-0);\n",
       "}\n",
       "\n",
       "#sk-container-id-1 div.sk-toggleable__content.fitted pre {\n",
       "  /* unfitted */\n",
       "  background-color: var(--sklearn-color-fitted-level-0);\n",
       "}\n",
       "\n",
       "#sk-container-id-1 input.sk-toggleable__control:checked~div.sk-toggleable__content {\n",
       "  /* Expand drop-down */\n",
       "  max-height: 200px;\n",
       "  max-width: 100%;\n",
       "  overflow: auto;\n",
       "}\n",
       "\n",
       "#sk-container-id-1 input.sk-toggleable__control:checked~label.sk-toggleable__label-arrow:before {\n",
       "  content: \"▾\";\n",
       "}\n",
       "\n",
       "/* Pipeline/ColumnTransformer-specific style */\n",
       "\n",
       "#sk-container-id-1 div.sk-label input.sk-toggleable__control:checked~label.sk-toggleable__label {\n",
       "  color: var(--sklearn-color-text);\n",
       "  background-color: var(--sklearn-color-unfitted-level-2);\n",
       "}\n",
       "\n",
       "#sk-container-id-1 div.sk-label.fitted input.sk-toggleable__control:checked~label.sk-toggleable__label {\n",
       "  background-color: var(--sklearn-color-fitted-level-2);\n",
       "}\n",
       "\n",
       "/* Estimator-specific style */\n",
       "\n",
       "/* Colorize estimator box */\n",
       "#sk-container-id-1 div.sk-estimator input.sk-toggleable__control:checked~label.sk-toggleable__label {\n",
       "  /* unfitted */\n",
       "  background-color: var(--sklearn-color-unfitted-level-2);\n",
       "}\n",
       "\n",
       "#sk-container-id-1 div.sk-estimator.fitted input.sk-toggleable__control:checked~label.sk-toggleable__label {\n",
       "  /* fitted */\n",
       "  background-color: var(--sklearn-color-fitted-level-2);\n",
       "}\n",
       "\n",
       "#sk-container-id-1 div.sk-label label.sk-toggleable__label,\n",
       "#sk-container-id-1 div.sk-label label {\n",
       "  /* The background is the default theme color */\n",
       "  color: var(--sklearn-color-text-on-default-background);\n",
       "}\n",
       "\n",
       "/* On hover, darken the color of the background */\n",
       "#sk-container-id-1 div.sk-label:hover label.sk-toggleable__label {\n",
       "  color: var(--sklearn-color-text);\n",
       "  background-color: var(--sklearn-color-unfitted-level-2);\n",
       "}\n",
       "\n",
       "/* Label box, darken color on hover, fitted */\n",
       "#sk-container-id-1 div.sk-label.fitted:hover label.sk-toggleable__label.fitted {\n",
       "  color: var(--sklearn-color-text);\n",
       "  background-color: var(--sklearn-color-fitted-level-2);\n",
       "}\n",
       "\n",
       "/* Estimator label */\n",
       "\n",
       "#sk-container-id-1 div.sk-label label {\n",
       "  font-family: monospace;\n",
       "  font-weight: bold;\n",
       "  display: inline-block;\n",
       "  line-height: 1.2em;\n",
       "}\n",
       "\n",
       "#sk-container-id-1 div.sk-label-container {\n",
       "  text-align: center;\n",
       "}\n",
       "\n",
       "/* Estimator-specific */\n",
       "#sk-container-id-1 div.sk-estimator {\n",
       "  font-family: monospace;\n",
       "  border: 1px dotted var(--sklearn-color-border-box);\n",
       "  border-radius: 0.25em;\n",
       "  box-sizing: border-box;\n",
       "  margin-bottom: 0.5em;\n",
       "  /* unfitted */\n",
       "  background-color: var(--sklearn-color-unfitted-level-0);\n",
       "}\n",
       "\n",
       "#sk-container-id-1 div.sk-estimator.fitted {\n",
       "  /* fitted */\n",
       "  background-color: var(--sklearn-color-fitted-level-0);\n",
       "}\n",
       "\n",
       "/* on hover */\n",
       "#sk-container-id-1 div.sk-estimator:hover {\n",
       "  /* unfitted */\n",
       "  background-color: var(--sklearn-color-unfitted-level-2);\n",
       "}\n",
       "\n",
       "#sk-container-id-1 div.sk-estimator.fitted:hover {\n",
       "  /* fitted */\n",
       "  background-color: var(--sklearn-color-fitted-level-2);\n",
       "}\n",
       "\n",
       "/* Specification for estimator info (e.g. \"i\" and \"?\") */\n",
       "\n",
       "/* Common style for \"i\" and \"?\" */\n",
       "\n",
       ".sk-estimator-doc-link,\n",
       "a:link.sk-estimator-doc-link,\n",
       "a:visited.sk-estimator-doc-link {\n",
       "  float: right;\n",
       "  font-size: smaller;\n",
       "  line-height: 1em;\n",
       "  font-family: monospace;\n",
       "  background-color: var(--sklearn-color-background);\n",
       "  border-radius: 1em;\n",
       "  height: 1em;\n",
       "  width: 1em;\n",
       "  text-decoration: none !important;\n",
       "  margin-left: 0.5em;\n",
       "  text-align: center;\n",
       "  /* unfitted */\n",
       "  border: var(--sklearn-color-unfitted-level-1) 1pt solid;\n",
       "  color: var(--sklearn-color-unfitted-level-1);\n",
       "}\n",
       "\n",
       ".sk-estimator-doc-link.fitted,\n",
       "a:link.sk-estimator-doc-link.fitted,\n",
       "a:visited.sk-estimator-doc-link.fitted {\n",
       "  /* fitted */\n",
       "  border: var(--sklearn-color-fitted-level-1) 1pt solid;\n",
       "  color: var(--sklearn-color-fitted-level-1);\n",
       "}\n",
       "\n",
       "/* On hover */\n",
       "div.sk-estimator:hover .sk-estimator-doc-link:hover,\n",
       ".sk-estimator-doc-link:hover,\n",
       "div.sk-label-container:hover .sk-estimator-doc-link:hover,\n",
       ".sk-estimator-doc-link:hover {\n",
       "  /* unfitted */\n",
       "  background-color: var(--sklearn-color-unfitted-level-3);\n",
       "  color: var(--sklearn-color-background);\n",
       "  text-decoration: none;\n",
       "}\n",
       "\n",
       "div.sk-estimator.fitted:hover .sk-estimator-doc-link.fitted:hover,\n",
       ".sk-estimator-doc-link.fitted:hover,\n",
       "div.sk-label-container:hover .sk-estimator-doc-link.fitted:hover,\n",
       ".sk-estimator-doc-link.fitted:hover {\n",
       "  /* fitted */\n",
       "  background-color: var(--sklearn-color-fitted-level-3);\n",
       "  color: var(--sklearn-color-background);\n",
       "  text-decoration: none;\n",
       "}\n",
       "\n",
       "/* Span, style for the box shown on hovering the info icon */\n",
       ".sk-estimator-doc-link span {\n",
       "  display: none;\n",
       "  z-index: 9999;\n",
       "  position: relative;\n",
       "  font-weight: normal;\n",
       "  right: .2ex;\n",
       "  padding: .5ex;\n",
       "  margin: .5ex;\n",
       "  width: min-content;\n",
       "  min-width: 20ex;\n",
       "  max-width: 50ex;\n",
       "  color: var(--sklearn-color-text);\n",
       "  box-shadow: 2pt 2pt 4pt #999;\n",
       "  /* unfitted */\n",
       "  background: var(--sklearn-color-unfitted-level-0);\n",
       "  border: .5pt solid var(--sklearn-color-unfitted-level-3);\n",
       "}\n",
       "\n",
       ".sk-estimator-doc-link.fitted span {\n",
       "  /* fitted */\n",
       "  background: var(--sklearn-color-fitted-level-0);\n",
       "  border: var(--sklearn-color-fitted-level-3);\n",
       "}\n",
       "\n",
       ".sk-estimator-doc-link:hover span {\n",
       "  display: block;\n",
       "}\n",
       "\n",
       "/* \"?\"-specific style due to the `<a>` HTML tag */\n",
       "\n",
       "#sk-container-id-1 a.estimator_doc_link {\n",
       "  float: right;\n",
       "  font-size: 1rem;\n",
       "  line-height: 1em;\n",
       "  font-family: monospace;\n",
       "  background-color: var(--sklearn-color-background);\n",
       "  border-radius: 1rem;\n",
       "  height: 1rem;\n",
       "  width: 1rem;\n",
       "  text-decoration: none;\n",
       "  /* unfitted */\n",
       "  color: var(--sklearn-color-unfitted-level-1);\n",
       "  border: var(--sklearn-color-unfitted-level-1) 1pt solid;\n",
       "}\n",
       "\n",
       "#sk-container-id-1 a.estimator_doc_link.fitted {\n",
       "  /* fitted */\n",
       "  border: var(--sklearn-color-fitted-level-1) 1pt solid;\n",
       "  color: var(--sklearn-color-fitted-level-1);\n",
       "}\n",
       "\n",
       "/* On hover */\n",
       "#sk-container-id-1 a.estimator_doc_link:hover {\n",
       "  /* unfitted */\n",
       "  background-color: var(--sklearn-color-unfitted-level-3);\n",
       "  color: var(--sklearn-color-background);\n",
       "  text-decoration: none;\n",
       "}\n",
       "\n",
       "#sk-container-id-1 a.estimator_doc_link.fitted:hover {\n",
       "  /* fitted */\n",
       "  background-color: var(--sklearn-color-fitted-level-3);\n",
       "}\n",
       "</style><div id=\"sk-container-id-1\" class=\"sk-top-container\"><div class=\"sk-text-repr-fallback\"><pre>LatentDirichletAllocation(learning_offset=50, max_iter=50, n_components=8,\n",
       "                          random_state=0)</pre><b>In a Jupyter environment, please rerun this cell to show the HTML representation or trust the notebook. <br />On GitHub, the HTML representation is unable to render, please try loading this page with nbviewer.org.</b></div><div class=\"sk-container\" hidden><div class=\"sk-item\"><div class=\"sk-estimator fitted sk-toggleable\"><input class=\"sk-toggleable__control sk-hidden--visually\" id=\"sk-estimator-id-1\" type=\"checkbox\" checked><label for=\"sk-estimator-id-1\" class=\"sk-toggleable__label fitted sk-toggleable__label-arrow\"><div><div>LatentDirichletAllocation</div></div><div><a class=\"sk-estimator-doc-link fitted\" rel=\"noreferrer\" target=\"_blank\" href=\"https://scikit-learn.org/1.6/modules/generated/sklearn.decomposition.LatentDirichletAllocation.html\">?<span>Documentation for LatentDirichletAllocation</span></a><span class=\"sk-estimator-doc-link fitted\">i<span>Fitted</span></span></div></label><div class=\"sk-toggleable__content fitted\"><pre>LatentDirichletAllocation(learning_offset=50, max_iter=50, n_components=8,\n",
       "                          random_state=0)</pre></div> </div></div></div></div>"
      ],
      "text/plain": [
       "LatentDirichletAllocation(learning_offset=50, max_iter=50, n_components=8,\n",
       "                          random_state=0)"
      ]
     },
     "execution_count": 23,
     "metadata": {},
     "output_type": "execute_result"
    }
   ],
   "source": [
    "lda.fit(tf)"
   ]
  },
  {
   "cell_type": "code",
   "execution_count": 24,
   "id": "779e00ac",
   "metadata": {},
   "outputs": [],
   "source": [
    "# 打印高频词\n",
    "def print_top_words(model, feature_names, n_top_words):\n",
    "    # 返回列表top_words\n",
    "    tword = []\n",
    "    for topic_idx, topic in enumerate(model.components_):# model.components_包含每个主题对应的词分布向量，topic_idx 表示当前主题的索引\n",
    "        print(\"Topic #%d:\" % topic_idx)\n",
    "        topic_w = \" \".join([feature_names[i] for i in topic.argsort()[:-n_top_words - 1:-1]])\n",
    "        tword.append(topic_w)\n",
    "        print(topic_w)\n",
    "    return tword"
   ]
  },
  {
   "cell_type": "markdown",
   "id": "66675b84",
   "metadata": {},
   "source": [
    "每个主题对应词语"
   ]
  },
  {
   "cell_type": "code",
   "execution_count": 25,
   "id": "21eb2fce",
   "metadata": {},
   "outputs": [
    {
     "name": "stdout",
     "output_type": "stream",
     "text": [
      "Topic #0:\n",
      "左个 柚子 猪肉 一杯 好喝 莲子 地铁站 一共 东路 对面 情怀 隔壁 点餐 出口 整体 黑糯米 二楼 一条街 对于 这边 位于 虾米 速度 菜单 路上 三家 小丸子 一如既往 紫米 蛋挞\n",
      "Topic #1:\n",
      "一杯 整体 隔壁 对面 地铁站 左个 点餐 出口 黑糯米 好喝 情怀 东路 莲子 二楼 一条街 柚子 猪肉 对于 这边 位于 虾米 速度 一共 菜单 路上 三家 小丸子 一如既往 紫米 蛋挞\n",
      "Topic #2:\n",
      "黑糯米 路上 一如既往 紫米 小丸子 出口 菜单 地铁站 二楼 情怀 好喝 虾米 一条街 一杯 柚子 猪肉 东路 对于 一共 点餐 三家 隔壁 整体 速度 蛋挞 莲子 左个 对面 位于 这边\n",
      "Topic #3:\n",
      "隔壁 点餐 虾米 三家 紫米 东路 柚子 对面 二楼 整体 情怀 菜单 一如既往 好喝 路上 一条街 这边 一杯 左个 地铁站 出口 黑糯米 莲子 猪肉 对于 位于 速度 一共 小丸子 蛋挞\n",
      "Topic #4:\n",
      "紫米 一共 二楼 莲子 一条街 出口 好喝 一杯 一如既往 位于 黑糯米 猪肉 左个 点餐 蛋挞 整体 对于 东路 地铁站 小丸子 菜单 这边 三家 情怀 速度 虾米 路上 柚子 对面 隔壁\n",
      "Topic #5:\n",
      "小丸子 三家 地铁站 二楼 位于 东路 这边 蛋挞 对面 整体 黑糯米 速度 一条街 点餐 出口 路上 猪肉 情怀 莲子 菜单 一杯 对于 柚子 虾米 隔壁 好喝 一共 一如既往 紫米 左个\n",
      "Topic #6:\n",
      "左个 隔壁 这边 对于 虾米 速度 莲子 整体 小丸子 地铁站 黑糯米 位于 出口 二楼 一条街 一杯 猪肉 一如既往 紫米 情怀 东路 一共 点餐 对面 蛋挞 柚子 三家 菜单 路上 好喝\n",
      "Topic #7:\n",
      "左个 猪肉 对面 对于 一共 速度 莲子 这边 东路 三家 一条街 路上 点餐 菜单 地铁站 二楼 柚子 整体 一杯 一如既往 蛋挞 小丸子 好喝 紫米 出口 情怀 位于 虾米 黑糯米 隔壁\n"
     ]
    }
   ],
   "source": [
    "n_top_words = n_features\n",
    "tf_feature_names = tf_vectorizer.get_feature_names_out() # 长度为n_features，这里是30\n",
    "topic_word = print_top_words(lda, tf_feature_names, n_top_words)"
   ]
  },
  {
   "cell_type": "markdown",
   "id": "5b839f50",
   "metadata": {},
   "source": [
    "输出每篇文章对应主题"
   ]
  },
  {
   "cell_type": "code",
   "execution_count": 26,
   "id": "61084730",
   "metadata": {},
   "outputs": [
    {
     "data": {
      "text/plain": [
       "array([6.91223722e-04, 6.90770904e-04, 6.91949861e-04, 6.91773743e-04,\n",
       "       6.91838978e-04, 9.95159310e-01, 6.91655263e-04, 6.91477871e-04])"
      ]
     },
     "execution_count": 26,
     "metadata": {},
     "output_type": "execute_result"
    }
   ],
   "source": [
    "topics=lda.transform(tf) # 返回每个文档在各个主题上的概率分布\n",
    "topic = []\n",
    "for t in topics:\n",
    "    topic.append(list(t).index(np.max(t))) # 遍历每个文档的主题分布，找到最大值对应的索引（即最相关的主题编号）\n",
    "data['topic']=topic # 添加主题列并保存数据\n",
    "data.to_csv(\"/Users/wtsama/Documents/code/code2/python_assignment/week4/shop_520356_topic.csv\",index=False)\n",
    "topics[0]#0 1 2 查看第一个文档的主题编号"
   ]
  },
  {
   "cell_type": "markdown",
   "id": "392844c7",
   "metadata": {},
   "source": [
    "文档-主题分布可视化"
   ]
  },
  {
   "cell_type": "code",
   "execution_count": 27,
   "id": "7c9b38f3",
   "metadata": {},
   "outputs": [],
   "source": [
    "import matplotlib.pyplot as plt\n",
    "import seaborn as sns"
   ]
  },
  {
   "cell_type": "code",
   "execution_count": 28,
   "id": "2d9365d9",
   "metadata": {},
   "outputs": [],
   "source": [
    "def plot_document_topic_distribution(topics, n_topics):\n",
    "    # 设置中文字体（支持中文且系统自带）\n",
    "    #font_path ='/System/Library/AssetsV2/com_apple_MobileAsset_Font7/c3a843d226791256d897018e02e6c09b1ef283a9.asset/AssetData/Kavivanar-regular.ttf'\n",
    "    #font = fm.FontProperties(fname=font_path)\n",
    "    #plt.rcParams['font.family'] = font.get_name()\n",
    "    #plt.rcParams['axes.unicode_minus']=False # 用来正常显示负号\n",
    "    #plt.rcParams['font.sans-serif'] = ['PingFang SC', 'Microsoft YaHei', 'SimHei']\n",
    "    #plt.rcParams['axes.unicode_minus'] = False\n",
    "\n",
    "    plt.figure(figsize=(12, 8))\n",
    "    sns.heatmap(topics, cmap=\"YlGnBu\", xticklabels=[f'Topic{i}' for i in range(n_topics)])\n",
    "    plt.title(\"Document-Topic Distribution\")\n",
    "    plt.xlabel(\"Topic\")\n",
    "    plt.ylabel(\"Document\")\n",
    "    plt.show()"
   ]
  },
  {
   "cell_type": "markdown",
   "id": "0be96f9b",
   "metadata": {},
   "source": [
    "调用函数绘制文档-主题分布"
   ]
  },
  {
   "cell_type": "code",
   "execution_count": 29,
   "id": "a0587161",
   "metadata": {},
   "outputs": [
    {
     "data": {
      "image/png": "[encoded data removed]",
      "text/plain": [
       "<Figure size 1200x800 with 2 Axes>"
      ]
     },
     "metadata": {},
     "output_type": "display_data"
    }
   ],
   "source": [
    "plot_document_topic_distribution(topics, n_topics)"
   ]
  },
  {
   "cell_type": "markdown",
   "id": "59a7435e",
   "metadata": {},
   "source": [
    "利用pickle或json对所得到的lda模型、对应的词频矩阵、以及特征表示等进行序列化保存"
   ]
  },
  {
   "cell_type": "code",
   "execution_count": 30,
   "id": "f8a29001",
   "metadata": {},
   "outputs": [],
   "source": [
    "import pickle"
   ]
  },
  {
   "cell_type": "code",
   "execution_count": 31,
   "id": "b3f047f3",
   "metadata": {},
   "outputs": [
    {
     "name": "stdout",
     "output_type": "stream",
     "text": [
      "保存成功\n"
     ]
    }
   ],
   "source": [
    "# 保存前将所有对象存入字典\n",
    "save_data = {\n",
    "    'lda_model': lda,\n",
    "    'tf_matrix': tf,\n",
    "    'vectorizer': tf_vectorizer,\n",
    "    'topic_words': topic_word,\n",
    "    'topic_list': topic\n",
    "}\n",
    "# 一次性保存，并修改保存路径\n",
    "file_name = 'lda_model'\n",
    "with open(file_name + '.pkl', 'wb') as f:\n",
    "    pickle.dump(save_data, f)\n",
    "print('保存成功')"
   ]
  },
  {
   "cell_type": "markdown",
   "id": "d0f89142",
   "metadata": {},
   "source": [
    "困惑度分析"
   ]
  },
  {
   "cell_type": "code",
   "execution_count": 32,
   "id": "865e3388",
   "metadata": {},
   "outputs": [],
   "source": [
    "import matplotlib.pyplot as plt"
   ]
  },
  {
   "cell_type": "code",
   "execution_count": 33,
   "id": "b165b716",
   "metadata": {},
   "outputs": [],
   "source": [
    "plexs = []\n",
    "n_max_topics = 100\n",
    "for i in range(1,n_max_topics):\n",
    "    # print(i)\n",
    "    lda = LatentDirichletAllocation(n_components=i, max_iter=50,\n",
    "                                    learning_method='batch',\n",
    "                                    learning_offset=50,random_state=0)\n",
    "    lda.fit(tf)\n",
    "    plexs.append(lda.perplexity(tf))"
   ]
  },
  {
   "cell_type": "code",
   "execution_count": 34,
   "id": "39a01eb9",
   "metadata": {},
   "outputs": [
    {
     "name": "stdout",
     "output_type": "stream",
     "text": [
      "save plex pic successfully\n"
     ]
    },
    {
     "data": {
      "image/png": "[encoded data removed]",
      "text/plain": [
       "<Figure size 640x480 with 1 Axes>"
      ]
     },
     "metadata": {},
     "output_type": "display_data"
    }
   ],
   "source": [
    "n_t=99 # 区间最右侧的值。注意：不能大于n_max_topics\n",
    "x=list(range(1,n_t))\n",
    "plt.plot(x,plexs[1:n_t])\n",
    "plt.xlabel(\"number of topics\")\n",
    "plt.ylabel(\"perplexity\")\n",
    "# 存储图片\n",
    "save_plex_pic_path = '/Users/wtsama/Documents/code/code2/python_assignment/week4/pic/'\n",
    "file_name = 'plex_pic.png'\n",
    "\n",
    "plt.savefig(f'{save_plex_pic_path}{file_name}_with_'+str(n_max_topics)+'topics'+'.png')\n",
    "print('save plex pic successfully')\n",
    "\n",
    "plt.show()"
   ]
  }
 ],
 "metadata": {
  "kernelspec": {
   "display_name": "nlpenv",
   "language": "python",
   "name": "python3"
  },
  "language_info": {
   "codemirror_mode": {
    "name": "ipython",
    "version": 3
   },
   "file_extension": ".py",
   "mimetype": "text/x-python",
   "name": "python",
   "nbconvert_exporter": "python",
   "pygments_lexer": "ipython3",
   "version": "3.12.2"
  }
 },
 "nbformat": 4,
 "nbformat_minor": 5
}

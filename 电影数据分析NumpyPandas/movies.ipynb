{
 "cells": [
  {
   "cell_type": "code",
   "execution_count": 2,
   "id": "fe777385",
   "metadata": {},
   "outputs": [],
   "source": [
    "file_path='/Users/wtsama/Desktop/movies.xlsx'"
   ]
  },
  {
   "cell_type": "code",
   "execution_count": 3,
   "id": "2f1c8535",
   "metadata": {},
   "outputs": [],
   "source": [
    "import pandas as pd\n",
    "import numpy as np"
   ]
  },
  {
   "cell_type": "markdown",
   "id": "c9fa9252",
   "metadata": {},
   "source": [
    "### 1.输出前几行"
   ]
  },
  {
   "cell_type": "code",
   "execution_count": 82,
   "id": "a757909b",
   "metadata": {},
   "outputs": [
    {
     "name": "stdout",
     "output_type": "stream",
     "text": [
      "   电影ID   电影名  上映年度                                电影英文名     类型  \\\n",
      "0  1002  茉莉花开  2004                        Jasmine Women     爱情   \n",
      "1  1007  无间道2  2003                      Mou gaan dou II  警匪/动作   \n",
      "2  1008  无间道3  2003  Mou gaan dou III: Jung gik mou gaan     警匪   \n",
      "3  1016    墨攻  2006                             Muk gong     战争   \n",
      "4  1019    武士  2003                                 Musa     战争   \n",
      "\n",
      "                                                  片长            上映时间   制式  \\\n",
      "0                                      China:130 min   2004-6-15（中国）   2D   \n",
      "1                                            119 min    2003-9-5（中国）   2D   \n",
      "2    Argentina:118 min (Mar del Plata Film Festival)  2003-12-11（中国）   2D   \n",
      "3                                  Hong Kong:133 min  2006-11-23（中国）   2D   \n",
      "4  158 min  | Argentina:155 min  | Canada:154 min...   2003-1-10（中国）  NaN   \n",
      "\n",
      "           国家及地区     累计票房             发行公司                            导演  \\\n",
      "0             中国   521.8万      中国保利华亿传媒公司,                  侯咏 Yong Hou,   \n",
      "1    中国香港/中国/新加坡   800.8万  寰亚影视发行（香港）有限公司,               刘伟强 Andrew Lau,   \n",
      "2        中国香港/中国  3601.0万  寰亚影视发行（香港）有限公司,  刘伟强 Andrew Lau,麦兆辉 Alan Mak,   \n",
      "3  中国/日本/韩国/中国香港  6701.8万        安乐影片有限公司,             张之亮 Jacob Cheung,   \n",
      "4          韩国/中国        无        中国电影集团公司,                     金成洙 Sung,   \n",
      "\n",
      "                                                  主演  \\\n",
      "0  章子怡 Ziyi Zhang,陈冲 Joan Chen,姜文 Wen Jiang,刘烨 Ye...   \n",
      "1  黄秋生 Anthony Wong,曾志伟 Eric Tsang,刘嘉玲 Carina Lau...   \n",
      "2  梁朝伟 Tony Leung,刘德华 Andy Lau,黎明 Leon Lai,陈道明 Da...   \n",
      "3  刘德华 Andy Lau,安圣基 Seong,王志文 Zhiwen Wang,范冰冰 Bin...   \n",
      "4  郑雨盛 Woo,安圣基 Seong,朱镇谟 Jin,章子怡 Ziyi Zhang,朴勇宇 Y...   \n",
      "\n",
      "                                              制片公司列表  \\\n",
      "0             中国电影集团公司 China Film Group Corporation,   \n",
      "1  寰亚电影制作有限公司 Media Asia Film Production Co., Ltd...   \n",
      "2  寰亚电影制作有限公司 Media Asia Film Production Co., Ltd...   \n",
      "3  Boram Entertainment Inc.,Comstock,Hark &#38; C...   \n",
      "4  北京电影制片厂 Beijing Film Studio,韩国希杰娱乐株式会社 CJ Ente...   \n",
      "\n",
      "                                              发行公司列表  \n",
      "0  中国保利华亿传媒公司 Poly,Festive Films,Golden Village E...  \n",
      "1  A,Bright Angel Distribution,Cinema Mondo,Comst...  \n",
      "2  A,Bright Angel Distribution,Cinema Mondo,Comst...  \n",
      "3  Amuse Soft Entertainment,Comstock,Deltamac Ent...  \n",
      "4  A,Central Partnership,Contender Entertainment ...  \n"
     ]
    }
   ],
   "source": [
    "df = pd.read_excel(file_path)\n",
    "print(df.head(5))"
   ]
  },
  {
   "cell_type": "markdown",
   "id": "d6315362",
   "metadata": {},
   "source": [
    "### 1.重命名列名为 ['id', 'region', 'currency', 'week', 'date_gap', 'avg_audience’, 'week_salary', 'accum_salary’]；\n",
    " - **这里的数据有的列名是错的，需要修改（有的英文列名对不上中文）**\n",
    " - **列名的长度对不上，只能部分修改列名**"
   ]
  },
  {
   "cell_type": "code",
   "execution_count": 83,
   "id": "ad71b42f",
   "metadata": {},
   "outputs": [
    {
     "name": "stdout",
     "output_type": "stream",
     "text": [
      "Index(['电影ID', '电影名', '上映年度', '电影英文名', '类型', '片长', '上映时间', '制式', '国家及地区',\n",
      "       '累计票房', '发行公司', '导演', '主演', '制片公司列表', '发行公司列表'],\n",
      "      dtype='object')\n"
     ]
    }
   ],
   "source": [
    "print(df.columns)"
   ]
  },
  {
   "cell_type": "code",
   "execution_count": 84,
   "id": "c955f004",
   "metadata": {},
   "outputs": [
    {
     "name": "stdout",
     "output_type": "stream",
     "text": [
      "     id   电影名  date_gap                                电影英文名 currency  \\\n",
      "0  1002  茉莉花开      2004                        Jasmine Women       爱情   \n",
      "1  1007  无间道2      2003                      Mou gaan dou II    警匪/动作   \n",
      "2  1008  无间道3      2003  Mou gaan dou III: Jung gik mou gaan       警匪   \n",
      "\n",
      "                                      avg_audience            week  制式  \\\n",
      "0                                    China:130 min   2004-6-15（中国）  2D   \n",
      "1                                          119 min    2003-9-5（中国）  2D   \n",
      "2  Argentina:118 min (Mar del Plata Film Festival)  2003-12-11（中国）  2D   \n",
      "\n",
      "        region week_salary     accum_salary                            导演  \\\n",
      "0           中国      521.8万      中国保利华亿传媒公司,                  侯咏 Yong Hou,   \n",
      "1  中国香港/中国/新加坡      800.8万  寰亚影视发行（香港）有限公司,               刘伟强 Andrew Lau,   \n",
      "2      中国香港/中国     3601.0万  寰亚影视发行（香港）有限公司,  刘伟强 Andrew Lau,麦兆辉 Alan Mak,   \n",
      "\n",
      "                                                  主演  \\\n",
      "0  章子怡 Ziyi Zhang,陈冲 Joan Chen,姜文 Wen Jiang,刘烨 Ye...   \n",
      "1  黄秋生 Anthony Wong,曾志伟 Eric Tsang,刘嘉玲 Carina Lau...   \n",
      "2  梁朝伟 Tony Leung,刘德华 Andy Lau,黎明 Leon Lai,陈道明 Da...   \n",
      "\n",
      "                                              制片公司列表  \\\n",
      "0             中国电影集团公司 China Film Group Corporation,   \n",
      "1  寰亚电影制作有限公司 Media Asia Film Production Co., Ltd...   \n",
      "2  寰亚电影制作有限公司 Media Asia Film Production Co., Ltd...   \n",
      "\n",
      "                                              发行公司列表  \n",
      "0  中国保利华亿传媒公司 Poly,Festive Films,Golden Village E...  \n",
      "1  A,Bright Angel Distribution,Cinema Mondo,Comst...  \n",
      "2  A,Bright Angel Distribution,Cinema Mondo,Comst...  \n"
     ]
    }
   ],
   "source": [
    "column_mapping = {\n",
    "    '电影ID': 'id',\n",
    "    '国家及地区': 'region',\n",
    "    '类型': 'currency',\n",
    "    '上映时间': 'week',\n",
    "    '上映年度': 'date_gap',\n",
    "    '片长': 'avg_audience',\n",
    "    '累计票房': 'week_salary',\n",
    "    '发行公司': 'accum_salary'\n",
    "}\n",
    "df = df.rename(columns=column_mapping)\n",
    "print(df.head(3))"
   ]
  },
  {
   "cell_type": "markdown",
   "id": "f5b751a6",
   "metadata": {},
   "source": [
    "### 3.输出描述性统计结果，计算avg_audience，week_salary，accum_salary列的相关性；"
   ]
  },
  {
   "cell_type": "code",
   "execution_count": 69,
   "id": "5cdda927",
   "metadata": {},
   "outputs": [
    {
     "data": {
      "text/plain": [
       "<bound method NDFrame.describe of          id      电影名  date_gap                                电影英文名 currency  \\\n",
       "0      1002     茉莉花开      2004                        Jasmine Women       爱情   \n",
       "1      1007     无间道2      2003                      Mou gaan dou II    警匪/动作   \n",
       "2      1008     无间道3      2003  Mou gaan dou III: Jung gik mou gaan       警匪   \n",
       "3      1016       墨攻      2006                             Muk gong       战争   \n",
       "4      1019       武士      2003                                 Musa       战争   \n",
       "..      ...      ...       ...                                  ...      ...   \n",
       "424    3622    鬼马狂想曲      2004              Gwai ma kwong seung kuk       喜剧   \n",
       "425    3623       怪物      2005                             Gwai muk       恐怖   \n",
       "426  362337     我的左手      2007                         My Left Hand       剧情   \n",
       "427  362377  特工的特别任务      2010               My Mom's New Boyfriend    动作/爱情   \n",
       "428  362995       南京      2007                              Nanking      纪录片   \n",
       "\n",
       "                                          avg_audience            week   制式  \\\n",
       "0                                        China:130 min   2004-6-15（中国）   2D   \n",
       "1                                              119 min    2003-9-5（中国）   2D   \n",
       "2      Argentina:118 min (Mar del Plata Film Festival)  2003-12-11（中国）   2D   \n",
       "3                                    Hong Kong:133 min  2006-11-23（中国）   2D   \n",
       "4    158 min  | Argentina:155 min  | Canada:154 min...   2003-1-10（中国）  NaN   \n",
       "..                                                 ...             ...  ...   \n",
       "424                                  Hong Kong:103 min    2004-2-5（中国）  NaN   \n",
       "425                                               93分钟  2005-10-27（中国）  NaN   \n",
       "426                                             82 min   2007-9-21（中国）   2D   \n",
       "427                                 Netherlands:97 min    2010-6-4（中国）   2D   \n",
       "428                                         USA:88 min    2007-7-7（中国）   2D   \n",
       "\n",
       "            region week_salary       accum_salary  \\\n",
       "0               中国      521.8万        中国保利华亿传媒公司,   \n",
       "1      中国香港/中国/新加坡      800.8万    寰亚影视发行（香港）有限公司,   \n",
       "2          中国香港/中国     3601.0万    寰亚影视发行（香港）有限公司,   \n",
       "3    中国/日本/韩国/中国香港     6701.8万          安乐影片有限公司,   \n",
       "4            韩国/中国           无          中国电影集团公司,   \n",
       "..             ...         ...                ...   \n",
       "424           中国香港           无         中国星电影有限公司,   \n",
       "425           中国香港           无  北京银都在线传媒文化有限责任公司,   \n",
       "426             中国        8.1万      华夏电影发行有限责任公司,   \n",
       "427          德国/美国      908.9万            千年电影公司,   \n",
       "428             美国     1313.3万                NaN   \n",
       "\n",
       "                               导演  \\\n",
       "0                    侯咏 Yong Hou,   \n",
       "1                 刘伟强 Andrew Lau,   \n",
       "2    刘伟强 Andrew Lau,麦兆辉 Alan Mak,   \n",
       "3               张之亮 Jacob Cheung,   \n",
       "4                       金成洙 Sung,   \n",
       "..                            ...   \n",
       "424              韦家辉 Wai Kar fai,   \n",
       "425                      郑保瑞 Pou,   \n",
       "426                           NaN   \n",
       "427           乔治?加洛 George Gallo,   \n",
       "428       比尔·古登泰格 Bill Guttentag,   \n",
       "\n",
       "                                                    主演  \\\n",
       "0    章子怡 Ziyi Zhang,陈冲 Joan Chen,姜文 Wen Jiang,刘烨 Ye...   \n",
       "1    黄秋生 Anthony Wong,曾志伟 Eric Tsang,刘嘉玲 Carina Lau...   \n",
       "2    梁朝伟 Tony Leung,刘德华 Andy Lau,黎明 Leon Lai,陈道明 Da...   \n",
       "3    刘德华 Andy Lau,安圣基 Seong,王志文 Zhiwen Wang,范冰冰 Bin...   \n",
       "4    郑雨盛 Woo,安圣基 Seong,朱镇谟 Jin,章子怡 Ziyi Zhang,朴勇宇 Y...   \n",
       "..                                                 ...   \n",
       "424  张柏芝 Cecilia Cheung,刘青云 Ching Wan Lau,古天乐 Louis...   \n",
       "425  舒淇 Hsu Chi,林嘉欣 Karena Lam,方中信 Alex Fong,谭竣浩 Ta...   \n",
       "426  马跃 Yue Ma,徐筠 Jun Xu,李幼斌 Youbin Li,田成仁 Chengren...   \n",
       "427  安东尼奥·班德拉斯 Antonio Banderas,梅格·瑞恩 Meg Ryan,塞尔玛·...   \n",
       "428  雨果·阿姆斯特朗 Hugo Armstrong,赵家玲 Rosalind Chao,斯蒂芬·...   \n",
       "\n",
       "                                                制片公司列表  \\\n",
       "0               中国电影集团公司 China Film Group Corporation,   \n",
       "1    寰亚电影制作有限公司 Media Asia Film Production Co., Ltd...   \n",
       "2    寰亚电影制作有限公司 Media Asia Film Production Co., Ltd...   \n",
       "3    Boram Entertainment Inc.,Comstock,Hark &#38; C...   \n",
       "4    北京电影制片厂 Beijing Film Studio,韩国希杰娱乐株式会社 CJ Ente...   \n",
       "..                                                 ...   \n",
       "424  中国星电影有限公司 China Star Film Co.,Ltd,One Hundred ...   \n",
       "425                          星皓电影有限公司 Filmko Pictures,   \n",
       "426  天津电影制片厂 Tianjin Film Studio,八一电影制片厂 Bayi Film ...   \n",
       "427  千年电影公司 Millennium Pictures,Eclectic Pictures,E...   \n",
       "428  HBO Documentary Films,Purple Mountain Producti...   \n",
       "\n",
       "                                                发行公司列表  \n",
       "0    中国保利华亿传媒公司 Poly,Festive Films,Golden Village E...  \n",
       "1    A,Bright Angel Distribution,Cinema Mondo,Comst...  \n",
       "2    A,Bright Angel Distribution,Cinema Mondo,Comst...  \n",
       "3    Amuse Soft Entertainment,Comstock,Deltamac Ent...  \n",
       "4    A,Central Partnership,Contender Entertainment ...  \n",
       "..                                                 ...  \n",
       "424  中国星电影有限公司 China Star Film Co.,Ltd,Long Shong E...  \n",
       "425  Cathay,Long Shong Entertainment Group,北京银都在线传媒...  \n",
       "426     华夏电影发行有限责任公司 Huaxia Film Distribution Co.,Ltd,  \n",
       "427  千年电影公司 Millennium Pictures,3L Filmverleih,Brid...  \n",
       "428  A,,Golden Village Entertainment,Kahn Pictures,...  \n",
       "\n",
       "[429 rows x 15 columns]>"
      ]
     },
     "execution_count": 69,
     "metadata": {},
     "output_type": "execute_result"
    }
   ],
   "source": [
    "df.describe"
   ]
  },
  {
   "cell_type": "markdown",
   "id": "b4e0ae31",
   "metadata": {},
   "source": [
    "- 取出 avg_audience列的每个元素的数字字符串计算持续时间\n",
    "\n",
    "**_这是因为原文的字符串不能直接进行相关性计算，必须提取数字转化为数值类型_**"
   ]
  },
  {
   "cell_type": "code",
   "execution_count": null,
   "id": "7f9f602d",
   "metadata": {},
   "outputs": [],
   "source": [
    "def get_digt(string):\n",
    "    '''\n",
    "    Get the first digit from a string'''\n",
    "    res = ''\n",
    "    flag = 0\n",
    "    for i in string:\n",
    "        if i.isdigit():\n",
    "            res+=i\n",
    "            flag = 1\n",
    "        if flag == 1 and (not i.isdigit()):\n",
    "            break\n",
    "    return res"
   ]
  },
  {
   "cell_type": "code",
   "execution_count": 86,
   "id": "2a3f7363",
   "metadata": {},
   "outputs": [
    {
     "data": {
      "text/plain": [
       "True"
      ]
     },
     "execution_count": 86,
     "metadata": {},
     "output_type": "execute_result"
    }
   ],
   "source": [
    "df['avg_audience']=df['avg_audience'].astype(str)\n",
    "df['avg_audience'] = df['avg_audience'].apply(get_digt)\n",
    "df['avg_audience'].head(5)\n",
    "any(df['avg_audience']=='') "
   ]
  },
  {
   "cell_type": "code",
   "execution_count": 87,
   "id": "53f60b0a",
   "metadata": {},
   "outputs": [],
   "source": [
    "df['avg_audience']=df['avg_audience'].replace('', 100)\n"
   ]
  },
  {
   "cell_type": "code",
   "execution_count": null,
   "id": "f6641957",
   "metadata": {},
   "outputs": [],
   "source": [
    "def replace_nondigt(string):\n",
    "    '''\n",
    "    Replace non-digit characters with 0'''\n",
    "    if type(string) == str:\n",
    "        if string.isdigit():\n",
    "            return string\n",
    "    string = '0'\n",
    "    return string"
   ]
  },
  {
   "cell_type": "markdown",
   "id": "c1abaf88",
   "metadata": {},
   "source": [
    "- 将**电影持续时间**转化为数值类型"
   ]
  },
  {
   "cell_type": "code",
   "execution_count": 90,
   "id": "d14b7eab",
   "metadata": {},
   "outputs": [
    {
     "data": {
      "text/plain": [
       "0      130\n",
       "1      119\n",
       "2      118\n",
       "3      133\n",
       "4      158\n",
       "      ... \n",
       "424    103\n",
       "425     93\n",
       "426     82\n",
       "427     97\n",
       "428     88\n",
       "Name: avg_audience, Length: 429, dtype: int64"
      ]
     },
     "execution_count": 90,
     "metadata": {},
     "output_type": "execute_result"
    }
   ],
   "source": [
    "for i in range(len(df)):\n",
    "    df.loc[i,'avg_audience']=replace_nondigt(df.loc[i,'avg_audience'])\n",
    "df['avg_audience'].head(5)\n",
    "df['avg_audience'].astype(int)"
   ]
  },
  {
   "cell_type": "markdown",
   "id": "33e0b443",
   "metadata": {},
   "source": [
    "- 将电影的**累计票房**转化为浮点数，没有信息的转化为 0"
   ]
  },
  {
   "cell_type": "code",
   "execution_count": 95,
   "id": "82e89be6",
   "metadata": {},
   "outputs": [
    {
     "data": {
      "text/plain": [
       "0     521.8\n",
       "1     800.8\n",
       "2    3601.0\n",
       "Name: week_salary, dtype: object"
      ]
     },
     "execution_count": 95,
     "metadata": {},
     "output_type": "execute_result"
    }
   ],
   "source": [
    "def get_digt_salary(salary):\n",
    "    if salary == '无':\n",
    "        return 0\n",
    "    salary = salary.replace('万', '')\n",
    "    return float(salary)\n",
    "for i in range(len(df)):\n",
    "    df.loc[i,'week_salary']=get_digt_salary(df.loc[i,'week_salary'])\n",
    "df['week_salary'].head(3)"
   ]
  },
  {
   "cell_type": "markdown",
   "id": "6ed2ca87",
   "metadata": {},
   "source": [
    "- 计算皮尔逊相关系数"
   ]
  },
  {
   "cell_type": "code",
   "execution_count": 98,
   "id": "f6bb4a9f",
   "metadata": {},
   "outputs": [
    {
     "name": "stdout",
     "output_type": "stream",
     "text": [
      "0.14312810904835674\n"
     ]
    }
   ],
   "source": [
    "corr_aud_accumsa = df['week_salary'].corr(df['avg_audience'])\n",
    "print(corr_aud_accumsa)"
   ]
  },
  {
   "cell_type": "markdown",
   "id": "0e083a1b",
   "metadata": {},
   "source": [
    "### 4.检查是否有空值"
   ]
  },
  {
   "cell_type": "code",
   "execution_count": null,
   "id": "a437619a",
   "metadata": {},
   "outputs": [
    {
     "data": {
      "text/plain": [
       "True"
      ]
     },
     "execution_count": 100,
     "metadata": {},
     "output_type": "execute_result"
    }
   ],
   "source": [
    "any(df.isnull())"
   ]
  },
  {
   "cell_type": "code",
   "execution_count": 101,
   "id": "a03e6b6a",
   "metadata": {},
   "outputs": [],
   "source": [
    "df = df.dropna()"
   ]
  },
  {
   "cell_type": "markdown",
   "id": "67e07f1d",
   "metadata": {},
   "source": [
    "### 5.提取所有“内地票房”数据，计算内地电影周均票房（得到一个值）；\n",
    "**这里内地票房是`week_salary`**"
   ]
  },
  {
   "cell_type": "code",
   "execution_count": 103,
   "id": "f7398d84",
   "metadata": {},
   "outputs": [
    {
     "data": {
      "text/plain": [
       "6541.885227272726"
      ]
     },
     "execution_count": 103,
     "metadata": {},
     "output_type": "execute_result"
    }
   ],
   "source": [
    "np.mean(df['week_salary'])"
   ]
  },
  {
   "cell_type": "markdown",
   "id": "49d07e2f",
   "metadata": {},
   "source": [
    "### 6. 以片长为横轴，累计票房为纵轴，绘制散点图"
   ]
  },
  {
   "cell_type": "code",
   "execution_count": 106,
   "id": "f507ca11",
   "metadata": {},
   "outputs": [],
   "source": [
    "import matplotlib.pyplot as plt"
   ]
  },
  {
   "cell_type": "markdown",
   "id": "7a2728af",
   "metadata": {},
   "source": [
    "- 累计票房"
   ]
  },
  {
   "cell_type": "code",
   "execution_count": 104,
   "id": "77a25e57",
   "metadata": {},
   "outputs": [
    {
     "data": {
      "text/plain": [
       "264"
      ]
     },
     "execution_count": 104,
     "metadata": {},
     "output_type": "execute_result"
    }
   ],
   "source": [
    "len(df['week_salary'])"
   ]
  },
  {
   "cell_type": "markdown",
   "id": "c4cec679",
   "metadata": {},
   "source": [
    "- 检查片长的维度是否和票房一致"
   ]
  },
  {
   "cell_type": "code",
   "execution_count": 105,
   "id": "57d4cd0b",
   "metadata": {},
   "outputs": [
    {
     "data": {
      "text/plain": [
       "264"
      ]
     },
     "execution_count": 105,
     "metadata": {},
     "output_type": "execute_result"
    }
   ],
   "source": [
    "len(df['avg_audience'])"
   ]
  },
  {
   "cell_type": "code",
   "execution_count": 114,
   "id": "3528fec8",
   "metadata": {},
   "outputs": [
    {
     "data": {
      "text/plain": [
       "Text(0, 0.5, 'Accumlated Salary (w ¥)')"
      ]
     },
     "execution_count": 114,
     "metadata": {},
     "output_type": "execute_result"
    },
    {
     "data": {
      "image/png": "[encoded data removed]",
      "text/plain": [
       "<Figure size 640x480 with 1 Axes>"
      ]
     },
     "metadata": {},
     "output_type": "display_data"
    }
   ],
   "source": [
    "plt.scatter(x = df['avg_audience'], y = df['week_salary'])\n",
    "plt.xlabel('Duration of Movie',fontsize = 12)\n",
    "plt.xticks(rotation = 90, fontsize = 5)\n",
    "plt.ylabel('Accumlated Salary (w ¥)')\n"
   ]
  }
 ],
 "metadata": {
  "kernelspec": {
   "display_name": "nlpenv",
   "language": "python",
   "name": "python3"
  },
  "language_info": {
   "codemirror_mode": {
    "name": "ipython",
    "version": 3
   },
   "file_extension": ".py",
   "mimetype": "text/x-python",
   "name": "python",
   "nbconvert_exporter": "python",
   "pygments_lexer": "ipython3",
   "version": "3.12.2"
  }
 },
 "nbformat": 4,
 "nbformat_minor": 5
}

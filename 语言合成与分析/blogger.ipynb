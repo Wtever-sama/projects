{
 "cells": [
  {
   "cell_type": "markdown",
   "id": "3fe6381c",
   "metadata": {},
   "source": [
    "### class 1 _类一_\n",
    "多线程对多个文字材料音频转换（每个线程负责一段）；输出文件与顺序有关"
   ]
  },
  {
   "cell_type": "code",
   "execution_count": 1,
   "id": "989773dc",
   "metadata": {},
   "outputs": [
    {
     "data": {
      "text/plain": [
       "True"
      ]
     },
     "execution_count": 1,
     "metadata": {},
     "output_type": "execute_result"
    }
   ],
   "source": [
    "from openai import OpenAI\n",
    "import dashscope\n",
    "import time\n",
    "import os \n",
    "import requests\n",
    "import sys\n",
    "import math \n",
    "import concurrent.futures\n",
    "import tqdm\n",
    "import threading\n",
    "from dotenv import load_dotenv\n",
    "\n",
    "load_dotenv()"
   ]
  },
  {
   "cell_type": "code",
   "execution_count": 2,
   "id": "f48023f8",
   "metadata": {},
   "outputs": [],
   "source": [
    "api_key = os.getenv(\"DASHSCOPE_API_KEY\")"
   ]
  },
  {
   "cell_type": "code",
   "execution_count": 3,
   "id": "aa916553",
   "metadata": {},
   "outputs": [],
   "source": [
    "import dashscope.audio"
   ]
  },
  {
   "cell_type": "code",
   "execution_count": null,
   "id": "ef9c8907",
   "metadata": {},
   "outputs": [],
   "source": [
    "class MutiThreadASR:\n",
    "    def __init__(self, filepath, num_process, savepath, VA):\n",
    "        '''\n",
    "        filepath: 包含文本的文本文件路径\n",
    "        num_process: 线程数\n",
    "        savepath: 保存路径'''\n",
    "        self.filepath =filepath\n",
    "        self.num_threads = num_threads\n",
    "        self.savepath = savepath\n",
    "        self.VA=VA\n",
    "    def _get_files(self):\n",
    "        '''\n",
    "        返回包含行组成的列表'''\n",
    "        file = self.filepath\n",
    "        try:\n",
    "            with open(file, 'r', encoding='utf-8')as f:\n",
    "                paras = f.readlines() # list\n",
    "            return paras\n",
    "        except FileNotFoundError as e:\n",
    "            print(\"{}\".format(file)+e)\n",
    "    def _load_one_part(self,chunk,worker_id):\n",
    "        '''\n",
    "        将包含行组成的列表转化为文本并调用text2voice'''\n",
    "        # 将列表转化为文本\n",
    "        text = \"\\n\".join(chunk)  \n",
    "        self._text2voice(text,worker_id)    \n",
    "    def _get_chunk_size(self):\n",
    "        '''\n",
    "        返回每个线程应该读取的行数'''\n",
    "        chunk_size=math.ceil(len(self._get_files())/self.num_threads)\n",
    "        return chunk_size\n",
    "    def _slice_file(self):\n",
    "        '''\n",
    "        返回包含行组成的列表的列表'''\n",
    "        start=0\n",
    "        reminder = len(self._get_files())%self._get_chunk_size()\n",
    "        threads=[]\n",
    "        for i in range(self.num_threads): # 应该用num_threads作为循环次数不是chunk_size\n",
    "            end = start+self._get_chunk_size() +(1 if reminder>i else 0)\n",
    "            threads.append(self._get_files()[start:end])\n",
    "            start=end\n",
    "        return threads\n",
    "    def multi_threads(self):\n",
    "        '''\n",
    "        多线程处理,外部接口'''\n",
    "        threads=[]\n",
    "        sliced_lst=self._slice_file()\n",
    "        \n",
    "        for i, part in enumerate(sliced_lst):\n",
    "            thread=threading.Thread(target=self._load_one_part, args=(part,i+1))\n",
    "            thread.start()\n",
    "            threads.append(thread)\n",
    "        for thread in threads:\n",
    "            thread.join()\n",
    "    def _text2voice(self, text, worker_id):\n",
    "        '''\n",
    "        调用dashscope的api'''\n",
    "        savepath = self.savepath+\"part{}\".format(worker_id)+\"_{}\".format(self.VA)+\".mp3\"\n",
    "            \n",
    "        # text is text not list\n",
    "        response=dashscope.audio.qwen_tts.SpeechSynthesizer.call(\n",
    "            model='qwen-tts',\n",
    "            api_key=api_key,\n",
    "            text=text,\n",
    "            voice=\"Cherry\",\n",
    "        )\n",
    "        audio_url=response.output.audio[\"url\"]\n",
    "        \n",
    "        try:\n",
    "            response=requests.get(audio_url)\n",
    "            response.raise_for_status()\n",
    "            with open(savepath,'wb')as f:\n",
    "                f.write(response.content)\n",
    "            print('音频文件保存到{}'.format(savepath))\n",
    "        except Exception as e:\n",
    "            print(e,'fail when downloading {}'.format(savepath))\n",
    "                   \n",
    "   "
   ]
  },
  {
   "cell_type": "markdown",
   "id": "dccd3723",
   "metadata": {},
   "source": [
    "主函数"
   ]
  },
  {
   "cell_type": "code",
   "execution_count": 12,
   "id": "715ab66d",
   "metadata": {},
   "outputs": [],
   "source": [
    "def main():\n",
    "    filepath='flipped.txt'\n",
    "    savepath='/Users/wtsama/Documents/code/'\n",
    "    num_threads=4\n",
    "    VA1=\"Ethan\"\n",
    "    VA2=\"Cherry\"\n",
    "    multiThreads2=MutiThreadASR(filepath,num_threads,savepath,VA=VA2)\n",
    "    multiThreads2.multi_threads()\n",
    "    multiThreads1=MutiThreadASR(filepath,num_threads,savepath,VA=VA1)\n",
    "    multiThreads1.multi_threads()\n",
    "    "
   ]
  },
  {
   "cell_type": "code",
   "execution_count": 13,
   "id": "34a8e816",
   "metadata": {},
   "outputs": [
    {
     "name": "stdout",
     "output_type": "stream",
     "text": [
      "音频文件保存到/Users/wtsama/Documents/code/part1_Cherry.mp3\n",
      "音频文件保存到/Users/wtsama/Documents/code/part3_Cherry.mp3\n",
      "音频文件保存到/Users/wtsama/Documents/code/part4_Cherry.mp3\n",
      "音频文件保存到/Users/wtsama/Documents/code/part2_Cherry.mp3\n",
      "音频文件保存到/Users/wtsama/Documents/code/part3_Ethan.mp3\n",
      "音频文件保存到/Users/wtsama/Documents/code/part1_Ethan.mp3\n",
      "音频文件保存到/Users/wtsama/Documents/code/part4_Ethan.mp3\n",
      "音频文件保存到/Users/wtsama/Documents/code/part2_Ethan.mp3\n"
     ]
    }
   ],
   "source": [
    "if __name__==\"__main__\":\n",
    "    main()"
   ]
  }
 ],
 "metadata": {
  "kernelspec": {
   "display_name": "nlpenv",
   "language": "python",
   "name": "python3"
  },
  "language_info": {
   "codemirror_mode": {
    "name": "ipython",
    "version": 3
   },
   "file_extension": ".py",
   "mimetype": "text/x-python",
   "name": "python",
   "nbconvert_exporter": "python",
   "pygments_lexer": "ipython3",
   "version": "3.12.2"
  }
 },
 "nbformat": 4,
 "nbformat_minor": 5
}
